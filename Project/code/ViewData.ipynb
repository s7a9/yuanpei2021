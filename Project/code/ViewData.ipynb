{
 "cells": [
  {
   "cell_type": "code",
   "execution_count": 1,
   "metadata": {},
   "outputs": [],
   "source": [
    "import numpy as np\n",
    "import pandas as pd"
   ]
  },
  {
   "cell_type": "code",
   "execution_count": 2,
   "metadata": {},
   "outputs": [
    {
     "name": "stdout",
     "output_type": "stream",
     "text": [
      "(2082, 4)\n"
     ]
    },
    {
     "data": {
      "text/html": [
       "<div>\n",
       "<style scoped>\n",
       "    .dataframe tbody tr th:only-of-type {\n",
       "        vertical-align: middle;\n",
       "    }\n",
       "\n",
       "    .dataframe tbody tr th {\n",
       "        vertical-align: top;\n",
       "    }\n",
       "\n",
       "    .dataframe thead th {\n",
       "        text-align: right;\n",
       "    }\n",
       "</style>\n",
       "<table border=\"1\" class=\"dataframe\">\n",
       "  <thead>\n",
       "    <tr style=\"text-align: right;\">\n",
       "      <th></th>\n",
       "      <th>主诉</th>\n",
       "      <th>现病史</th>\n",
       "      <th>原始诊断</th>\n",
       "      <th>标准化诊断</th>\n",
       "    </tr>\n",
       "    <tr>\n",
       "      <th>id</th>\n",
       "      <th></th>\n",
       "      <th></th>\n",
       "      <th></th>\n",
       "      <th></th>\n",
       "    </tr>\n",
       "  </thead>\n",
       "  <tbody>\n",
       "    <tr>\n",
       "      <th>1</th>\n",
       "      <td>进行性走路不稳10个月，加重2个月</td>\n",
       "      <td>患10个月前始无明显诱因出现不敢下高台阶，行走不稳，初始时行走左右晃动，伴双下肢乏力，一笑或...</td>\n",
       "      <td>多系统萎缩</td>\n",
       "      <td>多系统萎缩</td>\n",
       "    </tr>\n",
       "    <tr>\n",
       "      <th>2</th>\n",
       "      <td>进行性走路不稳10个月，加重2个月</td>\n",
       "      <td>患10个月前始无明显诱因出现不敢下高台阶，行走不稳，初始时行走左右晃动，伴双下肢乏力，一笑或...</td>\n",
       "      <td>多系统萎缩可能性大</td>\n",
       "      <td>多系统萎缩</td>\n",
       "    </tr>\n",
       "    <tr>\n",
       "      <th>3</th>\n",
       "      <td>进展视物不清、排尿障碍、躯干僵直13月。</td>\n",
       "      <td>13月前患者无明显诱因出现视物不清，主要表现为双眼不适、视远处物体时模糊，不伴有视物成双、视...</td>\n",
       "      <td>进行性核上性麻痹可能性大</td>\n",
       "      <td>进行性核上性麻痹</td>\n",
       "    </tr>\n",
       "    <tr>\n",
       "      <th>4</th>\n",
       "      <td>进展视物不清、排尿障碍、躯干僵直13月。</td>\n",
       "      <td>13月前患者无明显诱因出现视物不清，主要表现为双眼不适、视远处物体时模糊，不伴有视物成双、视...</td>\n",
       "      <td>进行性核上性麻痹</td>\n",
       "      <td>进行性核上性麻痹</td>\n",
       "    </tr>\n",
       "    <tr>\n",
       "      <th>5</th>\n",
       "      <td>左侧肢体僵硬、活动不灵活3年余，加重1年余。</td>\n",
       "      <td>患者3年余前（2013年9月）外出旅游后出现左下肢后部肌肉的紧束感、僵硬感，时轻时重，无活动...</td>\n",
       "      <td>帕金森综合征</td>\n",
       "      <td>帕金森综合征</td>\n",
       "    </tr>\n",
       "  </tbody>\n",
       "</table>\n",
       "</div>"
      ],
      "text/plain": [
       "                        主诉                                                现病史  \\\n",
       "id                                                                              \n",
       "1        进行性走路不稳10个月，加重2个月  患10个月前始无明显诱因出现不敢下高台阶，行走不稳，初始时行走左右晃动，伴双下肢乏力，一笑或...   \n",
       "2        进行性走路不稳10个月，加重2个月  患10个月前始无明显诱因出现不敢下高台阶，行走不稳，初始时行走左右晃动，伴双下肢乏力，一笑或...   \n",
       "3     进展视物不清、排尿障碍、躯干僵直13月。  13月前患者无明显诱因出现视物不清，主要表现为双眼不适、视远处物体时模糊，不伴有视物成双、视...   \n",
       "4     进展视物不清、排尿障碍、躯干僵直13月。  13月前患者无明显诱因出现视物不清，主要表现为双眼不适、视远处物体时模糊，不伴有视物成双、视...   \n",
       "5   左侧肢体僵硬、活动不灵活3年余，加重1年余。  患者3年余前（2013年9月）外出旅游后出现左下肢后部肌肉的紧束感、僵硬感，时轻时重，无活动...   \n",
       "\n",
       "            原始诊断     标准化诊断  \n",
       "id                          \n",
       "1          多系统萎缩     多系统萎缩  \n",
       "2      多系统萎缩可能性大     多系统萎缩  \n",
       "3   进行性核上性麻痹可能性大  进行性核上性麻痹  \n",
       "4       进行性核上性麻痹  进行性核上性麻痹  \n",
       "5         帕金森综合征    帕金森综合征  "
      ]
     },
     "metadata": {},
     "output_type": "display_data"
    }
   ],
   "source": [
    "data_path = '../data/帕金森_入院记录诊断.csv'\n",
    "\n",
    "data = pd.read_csv(data_path)\n",
    "data.set_index('id', inplace= True)\n",
    "print(data.shape)\n",
    "display(data.head(5))"
   ]
  },
  {
   "cell_type": "code",
   "execution_count": 3,
   "metadata": {},
   "outputs": [
    {
     "name": "stderr",
     "output_type": "stream",
     "text": [
      "Building prefix dict from the default dictionary ...\n",
      "Loading model from cache C:\\Users\\DCH\\AppData\\Local\\Temp\\jieba.cache\n",
      "Loading model cost 0.584 seconds.\n",
      "Prefix dict has been built successfully.\n"
     ]
    },
    {
     "name": "stdout",
     "output_type": "stream",
     "text": [
      "2082 articles loaded, with word bag length: 784\n"
     ]
    }
   ],
   "source": [
    "from Doc2Vec import TFIDF\n",
    "\n",
    "tfidf = TFIDF(data['主诉'])"
   ]
  },
  {
   "cell_type": "code",
   "execution_count": 4,
   "metadata": {
    "scrolled": true
   },
   "outputs": [],
   "source": [
    "v1 = tfidf.calc_doc_vec('进行性走路不稳10个月，加重2个月')\n",
    "v2 = tfidf.calc_doc_vec('左上肢联动少11年，进行性运动迟缓5年。')\n",
    "v3 = tfidf.calc_doc_vec('走路不稳2年，言语含混1年，加重伴性格改变6月')"
   ]
  },
  {
   "cell_type": "code",
   "execution_count": 6,
   "metadata": {},
   "outputs": [
    {
     "name": "stdout",
     "output_type": "stream",
     "text": [
      "(1, 1)\n",
      "0.541439117721417\n",
      "(1, 1)\n",
      "0.6834543954723002\n"
     ]
    }
   ],
   "source": [
    "from Similarity import calc_cos_similarity\n",
    "\n",
    "print(calc_cos_similarity(v1, v2))\n",
    "print(calc_cos_similarity(v1, v3))"
   ]
  },
  {
   "cell_type": "code",
   "execution_count": null,
   "metadata": {},
   "outputs": [],
   "source": []
  }
 ],
 "metadata": {
  "kernelspec": {
   "display_name": "Python\n(utech_core)",
   "language": "python",
   "name": "utech_core"
  },
  "language_info": {
   "codemirror_mode": {
    "name": "ipython",
    "version": 3
   },
   "file_extension": ".py",
   "mimetype": "text/x-python",
   "name": "python",
   "nbconvert_exporter": "python",
   "pygments_lexer": "ipython3",
   "version": "3.7.1"
  }
 },
 "nbformat": 4,
 "nbformat_minor": 4
}
